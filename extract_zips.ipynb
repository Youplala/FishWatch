{
 "cells": [
  {
   "cell_type": "code",
   "execution_count": 1,
   "metadata": {},
   "outputs": [],
   "source": [
    "import os\n",
    "import zipfile\n",
    "cwd = os.getcwd()\n",
    "input = os.path.join(os.getcwd(), 'carriers_data')\n",
    "extract_path = os.path.join(cwd, 'extracted')\n",
    "if not os.path.exists(extract_path):\n",
    "    os.mkdir(extract_path)\n",
    "for filename in os.listdir(input):\n",
    "    path = os.path.join(input, filename)\n",
    "    file = path.replace('.zip', '')\n",
    "    with zipfile.ZipFile(path, 'r') as zip_ref:\n",
    "        a = os.path.join(extract_path, filename.replace('.zip', ''))\n",
    "        zip_ref.extractall(a)"
   ]
  },
  {
   "cell_type": "code",
   "execution_count": 2,
   "metadata": {},
   "outputs": [
    {
     "name": "stdout",
     "output_type": "stream",
     "text": [
      "Unzipping encounter.zip from Carriers v20210501\n",
      "Unzipping encounter.zip from Carriers v20210201\n",
      "Unzipping encounter.zip from Carriers v20210601\n",
      "Unzipping encounter.zip from Carriers v20211101\n",
      "Unzipping encounter.zip from Carriers v20201201\n",
      "Unzipping encounter.zip from Carriers v20210401\n",
      "Unzipping encounter.zip from Carriers v20210801\n",
      "Unzipping encounter.zip from Carriers v20210701\n",
      "Successfully merged and exported to final.csv\n"
     ]
    }
   ],
   "source": [
    "import pandas as pd\n",
    "from datetime import datetime\n",
    "\n",
    "final = pd.DataFrame()\n",
    "for folder in os.listdir(extract_path):\n",
    "    folderpath = os.path.join(extract_path, folder)\n",
    "    for file in os.listdir(folderpath):\n",
    "        if file.endswith('encounter.zip'):\n",
    "            path = os.path.join(extract_path, folder, file)\n",
    "            with zipfile.ZipFile(path, 'r') as zip_ref:\n",
    "                a = os.path.join(extract_path, folder, file.replace('.zip', ''))\n",
    "                zip_ref.extractall(a)\n",
    "            print(f\"Unzipping {file} from {folder}\")\n",
    "            csvpath = os.path.join(extract_path, folder, file.replace('.zip', ''), 'data/csv', 'encounter.csv')\n",
    "            df = pd.read_csv(csvpath)\n",
    "            df['date'] = datetime.strptime(folder.split('v')[-1], '%Y%m%d')\n",
    "            final = final.append(df)\n",
    "\n",
    "final.to_csv('final.csv', index=None)\n",
    "print(\"Successfully merged and exported to final.csv\")"
   ]
  }
 ],
 "metadata": {
  "interpreter": {
   "hash": "916dbcbb3f70747c44a77c7bcd40155683ae19c65e1c03b4aa3499c5328201f1"
  },
  "kernelspec": {
   "display_name": "Python 3.8.10 64-bit",
   "language": "python",
   "name": "python3"
  },
  "language_info": {
   "codemirror_mode": {
    "name": "ipython",
    "version": 3
   },
   "file_extension": ".py",
   "mimetype": "text/x-python",
   "name": "python",
   "nbconvert_exporter": "python",
   "pygments_lexer": "ipython3",
   "version": "3.8.10"
  },
  "orig_nbformat": 4
 },
 "nbformat": 4,
 "nbformat_minor": 2
}

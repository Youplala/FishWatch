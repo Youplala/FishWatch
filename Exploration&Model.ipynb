{
 "cells": [
  {
   "cell_type": "code",
   "execution_count": 67,
   "metadata": {},
   "outputs": [
    {
     "data": {
      "text/html": [
       "<div>\n",
       "<style scoped>\n",
       "    .dataframe tbody tr th:only-of-type {\n",
       "        vertical-align: middle;\n",
       "    }\n",
       "\n",
       "    .dataframe tbody tr th {\n",
       "        vertical-align: top;\n",
       "    }\n",
       "\n",
       "    .dataframe thead th {\n",
       "        text-align: right;\n",
       "    }\n",
       "</style>\n",
       "<table border=\"1\" class=\"dataframe\">\n",
       "  <thead>\n",
       "    <tr style=\"text-align: right;\">\n",
       "      <th></th>\n",
       "      <th>id</th>\n",
       "      <th>type</th>\n",
       "      <th>start</th>\n",
       "      <th>end</th>\n",
       "      <th>lat</th>\n",
       "      <th>lon</th>\n",
       "      <th>vessel.id</th>\n",
       "      <th>vessel.type</th>\n",
       "      <th>vessel.mmsi</th>\n",
       "      <th>vessel.name</th>\n",
       "      <th>...</th>\n",
       "      <th>encounter.encountered_vessel.destination_port.name</th>\n",
       "      <th>encounter.encountered_vessel.authorizations.authorized</th>\n",
       "      <th>encounter.encountered_vessel.authorizations.unknown</th>\n",
       "      <th>loitering.total_distance_km</th>\n",
       "      <th>loitering.loitering_hours</th>\n",
       "      <th>port.lat</th>\n",
       "      <th>port.lon</th>\n",
       "      <th>port.country</th>\n",
       "      <th>port.name</th>\n",
       "      <th>date</th>\n",
       "    </tr>\n",
       "  </thead>\n",
       "  <tbody>\n",
       "    <tr>\n",
       "      <th>0</th>\n",
       "      <td>f6f02128e9fb54c8ea1bc7987f8d46d7.1</td>\n",
       "      <td>encounter</td>\n",
       "      <td>2015-02-02 23:40:00 UTC</td>\n",
       "      <td>2015-02-03 05:30:00 UTC</td>\n",
       "      <td>-45.583971</td>\n",
       "      <td>-60.494544</td>\n",
       "      <td>000702b7e-e442-5969-7849-35ea992140af</td>\n",
       "      <td>carrier</td>\n",
       "      <td>636015528</td>\n",
       "      <td>PRINCE OF STREAM</td>\n",
       "      <td>...</td>\n",
       "      <td>RECALADA</td>\n",
       "      <td>NaN</td>\n",
       "      <td>ICCAT|CCSBT</td>\n",
       "      <td>NaN</td>\n",
       "      <td>NaN</td>\n",
       "      <td>NaN</td>\n",
       "      <td>NaN</td>\n",
       "      <td>NaN</td>\n",
       "      <td>NaN</td>\n",
       "      <td>2021-05-01</td>\n",
       "    </tr>\n",
       "    <tr>\n",
       "      <th>1</th>\n",
       "      <td>1193f92e4aa29480fbfa2ace644fa143.1</td>\n",
       "      <td>encounter</td>\n",
       "      <td>2015-05-29 15:30:00 UTC</td>\n",
       "      <td>2015-05-30 08:30:00 UTC</td>\n",
       "      <td>-45.505687</td>\n",
       "      <td>-60.486374</td>\n",
       "      <td>000702b7e-e442-5969-7849-35ea992140af</td>\n",
       "      <td>carrier</td>\n",
       "      <td>636015528</td>\n",
       "      <td>PRINCE OF STREAM</td>\n",
       "      <td>...</td>\n",
       "      <td>PUNTA ARENAS</td>\n",
       "      <td>NaN</td>\n",
       "      <td>ICCAT|CCSBT</td>\n",
       "      <td>NaN</td>\n",
       "      <td>NaN</td>\n",
       "      <td>NaN</td>\n",
       "      <td>NaN</td>\n",
       "      <td>NaN</td>\n",
       "      <td>NaN</td>\n",
       "      <td>2021-05-01</td>\n",
       "    </tr>\n",
       "    <tr>\n",
       "      <th>2</th>\n",
       "      <td>ea7ca74af5300c273a0ce288f129763e.1</td>\n",
       "      <td>encounter</td>\n",
       "      <td>2015-02-19 15:50:00 UTC</td>\n",
       "      <td>2015-02-19 21:40:00 UTC</td>\n",
       "      <td>-45.534999</td>\n",
       "      <td>-60.493174</td>\n",
       "      <td>000702b7e-e442-5969-7849-35ea992140af</td>\n",
       "      <td>carrier</td>\n",
       "      <td>636015528</td>\n",
       "      <td>PRINCE OF STREAM</td>\n",
       "      <td>...</td>\n",
       "      <td>NaN</td>\n",
       "      <td>NaN</td>\n",
       "      <td>ICCAT|CCSBT</td>\n",
       "      <td>NaN</td>\n",
       "      <td>NaN</td>\n",
       "      <td>NaN</td>\n",
       "      <td>NaN</td>\n",
       "      <td>NaN</td>\n",
       "      <td>NaN</td>\n",
       "      <td>2021-05-01</td>\n",
       "    </tr>\n",
       "    <tr>\n",
       "      <th>3</th>\n",
       "      <td>7a6a1688b85b7e12770ed2385dd38656.1</td>\n",
       "      <td>encounter</td>\n",
       "      <td>2015-02-17 15:30:00 UTC</td>\n",
       "      <td>2015-02-17 21:10:00 UTC</td>\n",
       "      <td>-45.554563</td>\n",
       "      <td>-60.497218</td>\n",
       "      <td>000702b7e-e442-5969-7849-35ea992140af</td>\n",
       "      <td>carrier</td>\n",
       "      <td>636015528</td>\n",
       "      <td>PRINCE OF STREAM</td>\n",
       "      <td>...</td>\n",
       "      <td>MONTEVIDEO</td>\n",
       "      <td>NaN</td>\n",
       "      <td>CCSBT|ICCAT</td>\n",
       "      <td>NaN</td>\n",
       "      <td>NaN</td>\n",
       "      <td>NaN</td>\n",
       "      <td>NaN</td>\n",
       "      <td>NaN</td>\n",
       "      <td>NaN</td>\n",
       "      <td>2021-05-01</td>\n",
       "    </tr>\n",
       "    <tr>\n",
       "      <th>4</th>\n",
       "      <td>5489a5c393dafcb70b4f29d0b52786c7.1</td>\n",
       "      <td>encounter</td>\n",
       "      <td>2015-02-15 17:40:00 UTC</td>\n",
       "      <td>2015-02-16 00:20:00 UTC</td>\n",
       "      <td>-45.554497</td>\n",
       "      <td>-60.495039</td>\n",
       "      <td>000702b7e-e442-5969-7849-35ea992140af</td>\n",
       "      <td>carrier</td>\n",
       "      <td>636015528</td>\n",
       "      <td>PRINCE OF STREAM</td>\n",
       "      <td>...</td>\n",
       "      <td>ZHOUSHAN</td>\n",
       "      <td>NaN</td>\n",
       "      <td>CCSBT|ICCAT</td>\n",
       "      <td>NaN</td>\n",
       "      <td>NaN</td>\n",
       "      <td>NaN</td>\n",
       "      <td>NaN</td>\n",
       "      <td>NaN</td>\n",
       "      <td>NaN</td>\n",
       "      <td>2021-05-01</td>\n",
       "    </tr>\n",
       "  </tbody>\n",
       "</table>\n",
       "<p>5 rows × 42 columns</p>\n",
       "</div>"
      ],
      "text/plain": [
       "                                   id       type                    start  \\\n",
       "0  f6f02128e9fb54c8ea1bc7987f8d46d7.1  encounter  2015-02-02 23:40:00 UTC   \n",
       "1  1193f92e4aa29480fbfa2ace644fa143.1  encounter  2015-05-29 15:30:00 UTC   \n",
       "2  ea7ca74af5300c273a0ce288f129763e.1  encounter  2015-02-19 15:50:00 UTC   \n",
       "3  7a6a1688b85b7e12770ed2385dd38656.1  encounter  2015-02-17 15:30:00 UTC   \n",
       "4  5489a5c393dafcb70b4f29d0b52786c7.1  encounter  2015-02-15 17:40:00 UTC   \n",
       "\n",
       "                       end        lat        lon  \\\n",
       "0  2015-02-03 05:30:00 UTC -45.583971 -60.494544   \n",
       "1  2015-05-30 08:30:00 UTC -45.505687 -60.486374   \n",
       "2  2015-02-19 21:40:00 UTC -45.534999 -60.493174   \n",
       "3  2015-02-17 21:10:00 UTC -45.554563 -60.497218   \n",
       "4  2015-02-16 00:20:00 UTC -45.554497 -60.495039   \n",
       "\n",
       "                               vessel.id vessel.type  vessel.mmsi  \\\n",
       "0  000702b7e-e442-5969-7849-35ea992140af     carrier    636015528   \n",
       "1  000702b7e-e442-5969-7849-35ea992140af     carrier    636015528   \n",
       "2  000702b7e-e442-5969-7849-35ea992140af     carrier    636015528   \n",
       "3  000702b7e-e442-5969-7849-35ea992140af     carrier    636015528   \n",
       "4  000702b7e-e442-5969-7849-35ea992140af     carrier    636015528   \n",
       "\n",
       "        vessel.name  ... encounter.encountered_vessel.destination_port.name  \\\n",
       "0  PRINCE OF STREAM  ...                                           RECALADA   \n",
       "1  PRINCE OF STREAM  ...                                       PUNTA ARENAS   \n",
       "2  PRINCE OF STREAM  ...                                                NaN   \n",
       "3  PRINCE OF STREAM  ...                                         MONTEVIDEO   \n",
       "4  PRINCE OF STREAM  ...                                           ZHOUSHAN   \n",
       "\n",
       "  encounter.encountered_vessel.authorizations.authorized  \\\n",
       "0                                                NaN       \n",
       "1                                                NaN       \n",
       "2                                                NaN       \n",
       "3                                                NaN       \n",
       "4                                                NaN       \n",
       "\n",
       "  encounter.encountered_vessel.authorizations.unknown  \\\n",
       "0                                        ICCAT|CCSBT    \n",
       "1                                        ICCAT|CCSBT    \n",
       "2                                        ICCAT|CCSBT    \n",
       "3                                        CCSBT|ICCAT    \n",
       "4                                        CCSBT|ICCAT    \n",
       "\n",
       "  loitering.total_distance_km loitering.loitering_hours port.lat port.lon  \\\n",
       "0                         NaN                       NaN      NaN      NaN   \n",
       "1                         NaN                       NaN      NaN      NaN   \n",
       "2                         NaN                       NaN      NaN      NaN   \n",
       "3                         NaN                       NaN      NaN      NaN   \n",
       "4                         NaN                       NaN      NaN      NaN   \n",
       "\n",
       "   port.country  port.name        date  \n",
       "0           NaN        NaN  2021-05-01  \n",
       "1           NaN        NaN  2021-05-01  \n",
       "2           NaN        NaN  2021-05-01  \n",
       "3           NaN        NaN  2021-05-01  \n",
       "4           NaN        NaN  2021-05-01  \n",
       "\n",
       "[5 rows x 42 columns]"
      ]
     },
     "execution_count": 67,
     "metadata": {},
     "output_type": "execute_result"
    }
   ],
   "source": [
    "import pandas as pd\n",
    "import missingno as msno\n",
    "from sklearn.ensemble import RandomForestClassifier\n",
    "from sklearn.naive_bayes import GaussianNB\n",
    "from sklearn.model_selection import train_test_split\n",
    "from sklearn.metrics import accuracy_score\n",
    "\n",
    "\n",
    "df = pd.read_csv('final.csv')\n",
    "df.head()"
   ]
  },
  {
   "cell_type": "code",
   "execution_count": 68,
   "metadata": {},
   "outputs": [],
   "source": [
    "def count_unknown(s):\n",
    "    if s == 'NA':\n",
    "        return 0\n",
    "    else:\n",
    "        return len(str(s).split('|'))"
   ]
  },
  {
   "cell_type": "code",
   "execution_count": 69,
   "metadata": {},
   "outputs": [
    {
     "data": {
      "text/plain": [
       "<AxesSubplot:>"
      ]
     },
     "execution_count": 69,
     "metadata": {},
     "output_type": "execute_result"
    },
    {
     "data": {
      "image/png": "[encoded data removed]",
      "text/plain": [
       "<Figure size 432x288 with 1 Axes>"
      ]
     },
     "metadata": {
      "needs_background": "light"
     },
     "output_type": "display_data"
    }
   ],
   "source": [
    "df['encounter.authorization_status'].value_counts().plot(kind='bar')"
   ]
  },
  {
   "cell_type": "code",
   "execution_count": 70,
   "metadata": {},
   "outputs": [],
   "source": [
    "df['unauthorized_count'] = df['encounter.encountered_vessel.authorizations.unknown'].fillna('NA').apply(count_unknown)\n"
   ]
  },
  {
   "cell_type": "code",
   "execution_count": 71,
   "metadata": {},
   "outputs": [
    {
     "data": {
      "text/plain": [
       "<AxesSubplot:>"
      ]
     },
     "execution_count": 71,
     "metadata": {},
     "output_type": "execute_result"
    },
    {
     "data": {
      "image/png": "[encoded data removed]",
      "text/plain": [
       "<Figure size 1800x720 with 2 Axes>"
      ]
     },
     "metadata": {
      "needs_background": "light"
     },
     "output_type": "display_data"
    }
   ],
   "source": [
    "msno.matrix(df)"
   ]
  },
  {
   "cell_type": "code",
   "execution_count": 72,
   "metadata": {},
   "outputs": [],
   "source": [
    "df['start'] = pd.to_datetime(df['start'])\n",
    "df['end'] = pd.to_datetime(df['end'])\n",
    "df['duration'] = (df['end'] - df['start']).dt.seconds /60"
   ]
  },
  {
   "cell_type": "code",
   "execution_count": 73,
   "metadata": {},
   "outputs": [
    {
     "data": {
      "text/plain": [
       "id                                                                     object\n",
       "type                                                                   object\n",
       "start                                                     datetime64[ns, UTC]\n",
       "end                                                       datetime64[ns, UTC]\n",
       "lat                                                                   float64\n",
       "lon                                                                   float64\n",
       "vessel.id                                                              object\n",
       "vessel.type                                                            object\n",
       "vessel.mmsi                                                             int64\n",
       "vessel.name                                                            object\n",
       "vessel.flag                                                            object\n",
       "vessel.origin_port.country                                             object\n",
       "vessel.origin_port.name                                                object\n",
       "vessel.destination_port.country                                        object\n",
       "vessel.destination_port.name                                           object\n",
       "vessel.authorizations.authorized                                       object\n",
       "vessel.authorizations.unknown                                          object\n",
       "median_speed_knots                                                    float64\n",
       "elevation_m                                                             int64\n",
       "distance_from_shore_m                                                   int64\n",
       "distance_from_port_m                                                  float64\n",
       "regions.rfmo                                                           object\n",
       "encounter.median_distance_km                                          float64\n",
       "encounter.authorization_status                                         object\n",
       "encounter.encountered_vessel.id                                        object\n",
       "encounter.encountered_vessel.type                                      object\n",
       "encounter.encountered_vessel.mmsi                                       int64\n",
       "encounter.encountered_vessel.name                                      object\n",
       "encounter.encountered_vessel.flag                                      object\n",
       "encounter.encountered_vessel.origin_port.country                       object\n",
       "encounter.encountered_vessel.origin_port.name                          object\n",
       "encounter.encountered_vessel.destination_port.country                  object\n",
       "encounter.encountered_vessel.destination_port.name                     object\n",
       "encounter.encountered_vessel.authorizations.authorized                 object\n",
       "encounter.encountered_vessel.authorizations.unknown                    object\n",
       "loitering.total_distance_km                                           float64\n",
       "loitering.loitering_hours                                             float64\n",
       "port.lat                                                              float64\n",
       "port.lon                                                              float64\n",
       "port.country                                                          float64\n",
       "port.name                                                             float64\n",
       "date                                                                   object\n",
       "unauthorized_count                                                      int64\n",
       "duration                                                              float64\n",
       "dtype: object"
      ]
     },
     "execution_count": 73,
     "metadata": {},
     "output_type": "execute_result"
    }
   ],
   "source": [
    "df.dtypes"
   ]
  },
  {
   "cell_type": "code",
   "execution_count": 74,
   "metadata": {},
   "outputs": [],
   "source": [
    "df['is_authorized'] = df['encounter.authorization_status'].apply(lambda x: 2 if x == 'authorized' else (1 if x == 'partial' else 0))"
   ]
  },
  {
   "cell_type": "code",
   "execution_count": 75,
   "metadata": {},
   "outputs": [],
   "source": [
    "df2 = df.sample(100000, random_state=200)\n",
    "df = df.drop(df2.index)\n"
   ]
  },
  {
   "cell_type": "code",
   "execution_count": 76,
   "metadata": {},
   "outputs": [
    {
     "data": {
      "text/plain": [
       "(257754, 45)"
      ]
     },
     "execution_count": 76,
     "metadata": {},
     "output_type": "execute_result"
    }
   ],
   "source": [
    "df.shape"
   ]
  },
  {
   "cell_type": "code",
   "execution_count": 77,
   "metadata": {},
   "outputs": [
    {
     "data": {
      "text/plain": [
       "(100000, 45)"
      ]
     },
     "execution_count": 77,
     "metadata": {},
     "output_type": "execute_result"
    }
   ],
   "source": [
    "df2.shape"
   ]
  },
  {
   "cell_type": "code",
   "execution_count": 78,
   "metadata": {},
   "outputs": [
    {
     "data": {
      "text/html": [
       "<div>\n",
       "<style scoped>\n",
       "    .dataframe tbody tr th:only-of-type {\n",
       "        vertical-align: middle;\n",
       "    }\n",
       "\n",
       "    .dataframe tbody tr th {\n",
       "        vertical-align: top;\n",
       "    }\n",
       "\n",
       "    .dataframe thead th {\n",
       "        text-align: right;\n",
       "    }\n",
       "</style>\n",
       "<table border=\"1\" class=\"dataframe\">\n",
       "  <thead>\n",
       "    <tr style=\"text-align: right;\">\n",
       "      <th></th>\n",
       "      <th>median_speed_knots</th>\n",
       "      <th>elevation_m</th>\n",
       "      <th>distance_from_shore_m</th>\n",
       "      <th>distance_from_port_m</th>\n",
       "      <th>encounter.median_distance_km</th>\n",
       "      <th>duration</th>\n",
       "      <th>is_authorized</th>\n",
       "    </tr>\n",
       "  </thead>\n",
       "  <tbody>\n",
       "    <tr>\n",
       "      <th>0</th>\n",
       "      <td>0.028</td>\n",
       "      <td>-105</td>\n",
       "      <td>396000</td>\n",
       "      <td>417048.781</td>\n",
       "      <td>0.052</td>\n",
       "      <td>350.0</td>\n",
       "      <td>0</td>\n",
       "    </tr>\n",
       "    <tr>\n",
       "      <th>2</th>\n",
       "      <td>0.019</td>\n",
       "      <td>-101</td>\n",
       "      <td>394000</td>\n",
       "      <td>416120.438</td>\n",
       "      <td>0.037</td>\n",
       "      <td>350.0</td>\n",
       "      <td>0</td>\n",
       "    </tr>\n",
       "    <tr>\n",
       "      <th>3</th>\n",
       "      <td>0.041</td>\n",
       "      <td>-90</td>\n",
       "      <td>394000</td>\n",
       "      <td>415715.250</td>\n",
       "      <td>0.049</td>\n",
       "      <td>340.0</td>\n",
       "      <td>0</td>\n",
       "    </tr>\n",
       "    <tr>\n",
       "      <th>4</th>\n",
       "      <td>0.016</td>\n",
       "      <td>-90</td>\n",
       "      <td>394000</td>\n",
       "      <td>415715.250</td>\n",
       "      <td>0.064</td>\n",
       "      <td>400.0</td>\n",
       "      <td>0</td>\n",
       "    </tr>\n",
       "    <tr>\n",
       "      <th>7</th>\n",
       "      <td>1.304</td>\n",
       "      <td>-2667</td>\n",
       "      <td>224000</td>\n",
       "      <td>340354.656</td>\n",
       "      <td>0.028</td>\n",
       "      <td>200.0</td>\n",
       "      <td>2</td>\n",
       "    </tr>\n",
       "    <tr>\n",
       "      <th>...</th>\n",
       "      <td>...</td>\n",
       "      <td>...</td>\n",
       "      <td>...</td>\n",
       "      <td>...</td>\n",
       "      <td>...</td>\n",
       "      <td>...</td>\n",
       "      <td>...</td>\n",
       "    </tr>\n",
       "    <tr>\n",
       "      <th>357748</th>\n",
       "      <td>0.007</td>\n",
       "      <td>-21</td>\n",
       "      <td>1000</td>\n",
       "      <td>17866.998</td>\n",
       "      <td>0.471</td>\n",
       "      <td>220.0</td>\n",
       "      <td>2</td>\n",
       "    </tr>\n",
       "    <tr>\n",
       "      <th>357749</th>\n",
       "      <td>0.009</td>\n",
       "      <td>-21</td>\n",
       "      <td>1000</td>\n",
       "      <td>17866.998</td>\n",
       "      <td>0.161</td>\n",
       "      <td>920.0</td>\n",
       "      <td>2</td>\n",
       "    </tr>\n",
       "    <tr>\n",
       "      <th>357751</th>\n",
       "      <td>0.010</td>\n",
       "      <td>-45</td>\n",
       "      <td>2000</td>\n",
       "      <td>31134.578</td>\n",
       "      <td>0.011</td>\n",
       "      <td>680.0</td>\n",
       "      <td>2</td>\n",
       "    </tr>\n",
       "    <tr>\n",
       "      <th>357752</th>\n",
       "      <td>0.016</td>\n",
       "      <td>-6</td>\n",
       "      <td>1000</td>\n",
       "      <td>57596.129</td>\n",
       "      <td>0.339</td>\n",
       "      <td>950.0</td>\n",
       "      <td>2</td>\n",
       "    </tr>\n",
       "    <tr>\n",
       "      <th>357753</th>\n",
       "      <td>0.019</td>\n",
       "      <td>-37</td>\n",
       "      <td>1000</td>\n",
       "      <td>25626.350</td>\n",
       "      <td>0.165</td>\n",
       "      <td>270.0</td>\n",
       "      <td>2</td>\n",
       "    </tr>\n",
       "  </tbody>\n",
       "</table>\n",
       "<p>257754 rows × 7 columns</p>\n",
       "</div>"
      ],
      "text/plain": [
       "        median_speed_knots  elevation_m  distance_from_shore_m  \\\n",
       "0                    0.028         -105                 396000   \n",
       "2                    0.019         -101                 394000   \n",
       "3                    0.041          -90                 394000   \n",
       "4                    0.016          -90                 394000   \n",
       "7                    1.304        -2667                 224000   \n",
       "...                    ...          ...                    ...   \n",
       "357748               0.007          -21                   1000   \n",
       "357749               0.009          -21                   1000   \n",
       "357751               0.010          -45                   2000   \n",
       "357752               0.016           -6                   1000   \n",
       "357753               0.019          -37                   1000   \n",
       "\n",
       "        distance_from_port_m  encounter.median_distance_km  duration  \\\n",
       "0                 417048.781                         0.052     350.0   \n",
       "2                 416120.438                         0.037     350.0   \n",
       "3                 415715.250                         0.049     340.0   \n",
       "4                 415715.250                         0.064     400.0   \n",
       "7                 340354.656                         0.028     200.0   \n",
       "...                      ...                           ...       ...   \n",
       "357748             17866.998                         0.471     220.0   \n",
       "357749             17866.998                         0.161     920.0   \n",
       "357751             31134.578                         0.011     680.0   \n",
       "357752             57596.129                         0.339     950.0   \n",
       "357753             25626.350                         0.165     270.0   \n",
       "\n",
       "        is_authorized  \n",
       "0                   0  \n",
       "2                   0  \n",
       "3                   0  \n",
       "4                   0  \n",
       "7                   2  \n",
       "...               ...  \n",
       "357748              2  \n",
       "357749              2  \n",
       "357751              2  \n",
       "357752              2  \n",
       "357753              2  \n",
       "\n",
       "[257754 rows x 7 columns]"
      ]
     },
     "execution_count": 78,
     "metadata": {},
     "output_type": "execute_result"
    }
   ],
   "source": [
    "df = df[['median_speed_knots', 'elevation_m', 'distance_from_shore_m', 'distance_from_port_m', 'encounter.median_distance_km', 'duration', 'is_authorized']]\n",
    "df"
   ]
  },
  {
   "cell_type": "code",
   "execution_count": 79,
   "metadata": {},
   "outputs": [
    {
     "data": {
      "text/html": [
       "<div>\n",
       "<style scoped>\n",
       "    .dataframe tbody tr th:only-of-type {\n",
       "        vertical-align: middle;\n",
       "    }\n",
       "\n",
       "    .dataframe tbody tr th {\n",
       "        vertical-align: top;\n",
       "    }\n",
       "\n",
       "    .dataframe thead th {\n",
       "        text-align: right;\n",
       "    }\n",
       "</style>\n",
       "<table border=\"1\" class=\"dataframe\">\n",
       "  <thead>\n",
       "    <tr style=\"text-align: right;\">\n",
       "      <th></th>\n",
       "      <th>median_speed_knots</th>\n",
       "      <th>elevation_m</th>\n",
       "      <th>distance_from_shore_m</th>\n",
       "      <th>distance_from_port_m</th>\n",
       "      <th>encounter.median_distance_km</th>\n",
       "      <th>duration</th>\n",
       "      <th>is_authorized</th>\n",
       "    </tr>\n",
       "  </thead>\n",
       "  <tbody>\n",
       "    <tr>\n",
       "      <th>334592</th>\n",
       "      <td>0.889</td>\n",
       "      <td>-4322</td>\n",
       "      <td>1511000</td>\n",
       "      <td>2269359.750</td>\n",
       "      <td>0.030</td>\n",
       "      <td>160.0</td>\n",
       "      <td>1</td>\n",
       "    </tr>\n",
       "    <tr>\n",
       "      <th>290414</th>\n",
       "      <td>1.581</td>\n",
       "      <td>-205</td>\n",
       "      <td>310000</td>\n",
       "      <td>377846.469</td>\n",
       "      <td>0.021</td>\n",
       "      <td>190.0</td>\n",
       "      <td>0</td>\n",
       "    </tr>\n",
       "    <tr>\n",
       "      <th>208622</th>\n",
       "      <td>0.996</td>\n",
       "      <td>-5121</td>\n",
       "      <td>455000</td>\n",
       "      <td>652170.750</td>\n",
       "      <td>0.027</td>\n",
       "      <td>130.0</td>\n",
       "      <td>2</td>\n",
       "    </tr>\n",
       "    <tr>\n",
       "      <th>115063</th>\n",
       "      <td>0.027</td>\n",
       "      <td>-9</td>\n",
       "      <td>4000</td>\n",
       "      <td>14665.106</td>\n",
       "      <td>0.044</td>\n",
       "      <td>290.0</td>\n",
       "      <td>0</td>\n",
       "    </tr>\n",
       "    <tr>\n",
       "      <th>78234</th>\n",
       "      <td>0.037</td>\n",
       "      <td>-36</td>\n",
       "      <td>37000</td>\n",
       "      <td>125600.766</td>\n",
       "      <td>0.049</td>\n",
       "      <td>770.0</td>\n",
       "      <td>0</td>\n",
       "    </tr>\n",
       "    <tr>\n",
       "      <th>...</th>\n",
       "      <td>...</td>\n",
       "      <td>...</td>\n",
       "      <td>...</td>\n",
       "      <td>...</td>\n",
       "      <td>...</td>\n",
       "      <td>...</td>\n",
       "      <td>...</td>\n",
       "    </tr>\n",
       "    <tr>\n",
       "      <th>114710</th>\n",
       "      <td>0.297</td>\n",
       "      <td>-148</td>\n",
       "      <td>44000</td>\n",
       "      <td>328748.875</td>\n",
       "      <td>0.041</td>\n",
       "      <td>140.0</td>\n",
       "      <td>0</td>\n",
       "    </tr>\n",
       "    <tr>\n",
       "      <th>69281</th>\n",
       "      <td>0.643</td>\n",
       "      <td>-250</td>\n",
       "      <td>89000</td>\n",
       "      <td>104180.633</td>\n",
       "      <td>0.057</td>\n",
       "      <td>400.0</td>\n",
       "      <td>0</td>\n",
       "    </tr>\n",
       "    <tr>\n",
       "      <th>28071</th>\n",
       "      <td>0.754</td>\n",
       "      <td>-4085</td>\n",
       "      <td>1335000</td>\n",
       "      <td>2060426.750</td>\n",
       "      <td>0.051</td>\n",
       "      <td>240.0</td>\n",
       "      <td>1</td>\n",
       "    </tr>\n",
       "    <tr>\n",
       "      <th>143577</th>\n",
       "      <td>0.010</td>\n",
       "      <td>-210</td>\n",
       "      <td>1000</td>\n",
       "      <td>26736.762</td>\n",
       "      <td>0.277</td>\n",
       "      <td>760.0</td>\n",
       "      <td>2</td>\n",
       "    </tr>\n",
       "    <tr>\n",
       "      <th>144556</th>\n",
       "      <td>0.790</td>\n",
       "      <td>-215</td>\n",
       "      <td>300000</td>\n",
       "      <td>361745.500</td>\n",
       "      <td>0.055</td>\n",
       "      <td>980.0</td>\n",
       "      <td>0</td>\n",
       "    </tr>\n",
       "  </tbody>\n",
       "</table>\n",
       "<p>100000 rows × 7 columns</p>\n",
       "</div>"
      ],
      "text/plain": [
       "        median_speed_knots  elevation_m  distance_from_shore_m  \\\n",
       "334592               0.889        -4322                1511000   \n",
       "290414               1.581         -205                 310000   \n",
       "208622               0.996        -5121                 455000   \n",
       "115063               0.027           -9                   4000   \n",
       "78234                0.037          -36                  37000   \n",
       "...                    ...          ...                    ...   \n",
       "114710               0.297         -148                  44000   \n",
       "69281                0.643         -250                  89000   \n",
       "28071                0.754        -4085                1335000   \n",
       "143577               0.010         -210                   1000   \n",
       "144556               0.790         -215                 300000   \n",
       "\n",
       "        distance_from_port_m  encounter.median_distance_km  duration  \\\n",
       "334592           2269359.750                         0.030     160.0   \n",
       "290414            377846.469                         0.021     190.0   \n",
       "208622            652170.750                         0.027     130.0   \n",
       "115063             14665.106                         0.044     290.0   \n",
       "78234             125600.766                         0.049     770.0   \n",
       "...                      ...                           ...       ...   \n",
       "114710            328748.875                         0.041     140.0   \n",
       "69281             104180.633                         0.057     400.0   \n",
       "28071            2060426.750                         0.051     240.0   \n",
       "143577             26736.762                         0.277     760.0   \n",
       "144556            361745.500                         0.055     980.0   \n",
       "\n",
       "        is_authorized  \n",
       "334592              1  \n",
       "290414              0  \n",
       "208622              2  \n",
       "115063              0  \n",
       "78234               0  \n",
       "...               ...  \n",
       "114710              0  \n",
       "69281               0  \n",
       "28071               1  \n",
       "143577              2  \n",
       "144556              0  \n",
       "\n",
       "[100000 rows x 7 columns]"
      ]
     },
     "execution_count": 79,
     "metadata": {},
     "output_type": "execute_result"
    }
   ],
   "source": [
    "df2 = df2[['median_speed_knots', 'elevation_m', 'distance_from_shore_m', 'distance_from_port_m', 'encounter.median_distance_km', 'duration', 'is_authorized']]\n",
    "df2"
   ]
  },
  {
   "cell_type": "code",
   "execution_count": 127,
   "metadata": {},
   "outputs": [],
   "source": [
    "# Import train_test_split function\n",
    "#X = df[['median_speed_knots', 'elevation_m', 'distance_from_shore_m', 'distance_from_port_m', 'encounter.median_distance_km', 'duration']]  # Features\n",
    "\n",
    "X = df[['distance_from_port_m']]  # Features\n",
    "y = df['is_authorized']  # Labels\n",
    "\n",
    "# Split dataset into training set and test set\n",
    "X_train, X_test, y_train, y_test = train_test_split(X, y, test_size=0.3) # 70% training and 30% test"
   ]
  },
  {
   "cell_type": "code",
   "execution_count": 81,
   "metadata": {},
   "outputs": [],
   "source": [
    "X2 = df2[['median_speed_knots', 'elevation_m', 'distance_from_shore_m', 'distance_from_port_m', 'encounter.median_distance_km', 'duration']]  # Features\n",
    "y2 = df2['is_authorized']  # Labels\n",
    "\n",
    "# Split dataset into training set and test set\n",
    "X_train2, X_test2, y_train2, y_test2 = train_test_split(X2, y2, test_size=0.3) # 70% training and 30% test"
   ]
  },
  {
   "cell_type": "code",
   "execution_count": 82,
   "metadata": {},
   "outputs": [
    {
     "data": {
      "text/plain": [
       "0    162220\n",
       "1     52252\n",
       "2     43282\n",
       "Name: is_authorized, dtype: int64"
      ]
     },
     "execution_count": 82,
     "metadata": {},
     "output_type": "execute_result"
    }
   ],
   "source": [
    "df.is_authorized.value_counts()"
   ]
  },
  {
   "cell_type": "code",
   "execution_count": 128,
   "metadata": {},
   "outputs": [],
   "source": [
    "#Create a Gaussian Classifier\n",
    "clf=RandomForestClassifier(n_estimators=10)\n",
    "\n",
    "#Train the model using the training sets y_pred=clf.predict(X_test)\n",
    "clf.fit(X_train,y_train)\n",
    "\n",
    "y_pred=clf.predict(X_test)"
   ]
  },
  {
   "cell_type": "code",
   "execution_count": 129,
   "metadata": {},
   "outputs": [
    {
     "name": "stdout",
     "output_type": "stream",
     "text": [
      "Training Accuracy =  0.9920411024957462\n",
      "Test Accuracy =  0.9676697660584272\n"
     ]
    }
   ],
   "source": [
    "#Import scikit-learn metrics module for accuracy calculation\n",
    "from sklearn import metrics\n",
    "# Model Accuracy, how often is the classifier correct?\n",
    "print(\"Training Accuracy = \", clf.score(X_train, y_train))\n",
    "print(\"Test Accuracy = \", clf.score(X_test, y_test))"
   ]
  },
  {
   "cell_type": "code",
   "execution_count": 131,
   "metadata": {},
   "outputs": [
    {
     "data": {
      "text/plain": [
       "distance_from_port_m    1.0\n",
       "dtype: float64"
      ]
     },
     "execution_count": 131,
     "metadata": {},
     "output_type": "execute_result"
    }
   ],
   "source": [
    "feature_imp = pd.Series(clf.feature_importances_,index=X.columns).sort_values(ascending=False)\n",
    "feature_imp"
   ]
  },
  {
   "cell_type": "code",
   "execution_count": 86,
   "metadata": {},
   "outputs": [
    {
     "data": {
      "text/html": [
       "<div>\n",
       "<style scoped>\n",
       "    .dataframe tbody tr th:only-of-type {\n",
       "        vertical-align: middle;\n",
       "    }\n",
       "\n",
       "    .dataframe tbody tr th {\n",
       "        vertical-align: top;\n",
       "    }\n",
       "\n",
       "    .dataframe thead th {\n",
       "        text-align: right;\n",
       "    }\n",
       "</style>\n",
       "<table border=\"1\" class=\"dataframe\">\n",
       "  <thead>\n",
       "    <tr style=\"text-align: right;\">\n",
       "      <th></th>\n",
       "      <th>median_speed_knots</th>\n",
       "      <th>elevation_m</th>\n",
       "      <th>distance_from_shore_m</th>\n",
       "      <th>distance_from_port_m</th>\n",
       "      <th>encounter.median_distance_km</th>\n",
       "      <th>duration</th>\n",
       "      <th>is_authorized</th>\n",
       "    </tr>\n",
       "  </thead>\n",
       "  <tbody>\n",
       "    <tr>\n",
       "      <th>median_speed_knots</th>\n",
       "      <td>1.000000</td>\n",
       "      <td>-0.464203</td>\n",
       "      <td>0.424498</td>\n",
       "      <td>0.391164</td>\n",
       "      <td>-0.174488</td>\n",
       "      <td>-0.159261</td>\n",
       "      <td>0.285279</td>\n",
       "    </tr>\n",
       "    <tr>\n",
       "      <th>elevation_m</th>\n",
       "      <td>-0.464203</td>\n",
       "      <td>1.000000</td>\n",
       "      <td>-0.715824</td>\n",
       "      <td>-0.671458</td>\n",
       "      <td>0.147066</td>\n",
       "      <td>0.200008</td>\n",
       "      <td>-0.696422</td>\n",
       "    </tr>\n",
       "    <tr>\n",
       "      <th>distance_from_shore_m</th>\n",
       "      <td>0.424498</td>\n",
       "      <td>-0.715824</td>\n",
       "      <td>1.000000</td>\n",
       "      <td>0.929361</td>\n",
       "      <td>-0.154182</td>\n",
       "      <td>-0.205048</td>\n",
       "      <td>0.501678</td>\n",
       "    </tr>\n",
       "    <tr>\n",
       "      <th>distance_from_port_m</th>\n",
       "      <td>0.391164</td>\n",
       "      <td>-0.671458</td>\n",
       "      <td>0.929361</td>\n",
       "      <td>1.000000</td>\n",
       "      <td>-0.158212</td>\n",
       "      <td>-0.188242</td>\n",
       "      <td>0.471544</td>\n",
       "    </tr>\n",
       "    <tr>\n",
       "      <th>encounter.median_distance_km</th>\n",
       "      <td>-0.174488</td>\n",
       "      <td>0.147066</td>\n",
       "      <td>-0.154182</td>\n",
       "      <td>-0.158212</td>\n",
       "      <td>1.000000</td>\n",
       "      <td>-0.046001</td>\n",
       "      <td>-0.002999</td>\n",
       "    </tr>\n",
       "    <tr>\n",
       "      <th>duration</th>\n",
       "      <td>-0.159261</td>\n",
       "      <td>0.200008</td>\n",
       "      <td>-0.205048</td>\n",
       "      <td>-0.188242</td>\n",
       "      <td>-0.046001</td>\n",
       "      <td>1.000000</td>\n",
       "      <td>-0.168184</td>\n",
       "    </tr>\n",
       "    <tr>\n",
       "      <th>is_authorized</th>\n",
       "      <td>0.285279</td>\n",
       "      <td>-0.696422</td>\n",
       "      <td>0.501678</td>\n",
       "      <td>0.471544</td>\n",
       "      <td>-0.002999</td>\n",
       "      <td>-0.168184</td>\n",
       "      <td>1.000000</td>\n",
       "    </tr>\n",
       "  </tbody>\n",
       "</table>\n",
       "</div>"
      ],
      "text/plain": [
       "                              median_speed_knots  elevation_m  \\\n",
       "median_speed_knots                      1.000000    -0.464203   \n",
       "elevation_m                            -0.464203     1.000000   \n",
       "distance_from_shore_m                   0.424498    -0.715824   \n",
       "distance_from_port_m                    0.391164    -0.671458   \n",
       "encounter.median_distance_km           -0.174488     0.147066   \n",
       "duration                               -0.159261     0.200008   \n",
       "is_authorized                           0.285279    -0.696422   \n",
       "\n",
       "                              distance_from_shore_m  distance_from_port_m  \\\n",
       "median_speed_knots                         0.424498              0.391164   \n",
       "elevation_m                               -0.715824             -0.671458   \n",
       "distance_from_shore_m                      1.000000              0.929361   \n",
       "distance_from_port_m                       0.929361              1.000000   \n",
       "encounter.median_distance_km              -0.154182             -0.158212   \n",
       "duration                                  -0.205048             -0.188242   \n",
       "is_authorized                              0.501678              0.471544   \n",
       "\n",
       "                              encounter.median_distance_km  duration  \\\n",
       "median_speed_knots                               -0.174488 -0.159261   \n",
       "elevation_m                                       0.147066  0.200008   \n",
       "distance_from_shore_m                            -0.154182 -0.205048   \n",
       "distance_from_port_m                             -0.158212 -0.188242   \n",
       "encounter.median_distance_km                      1.000000 -0.046001   \n",
       "duration                                         -0.046001  1.000000   \n",
       "is_authorized                                    -0.002999 -0.168184   \n",
       "\n",
       "                              is_authorized  \n",
       "median_speed_knots                 0.285279  \n",
       "elevation_m                       -0.696422  \n",
       "distance_from_shore_m              0.501678  \n",
       "distance_from_port_m               0.471544  \n",
       "encounter.median_distance_km      -0.002999  \n",
       "duration                          -0.168184  \n",
       "is_authorized                      1.000000  "
      ]
     },
     "execution_count": 86,
     "metadata": {},
     "output_type": "execute_result"
    }
   ],
   "source": [
    "df.corr()"
   ]
  },
  {
   "cell_type": "code",
   "execution_count": 87,
   "metadata": {},
   "outputs": [
    {
     "data": {
      "text/plain": [
       "<AxesSubplot:xlabel='distance_from_shore_m', ylabel='elevation_m'>"
      ]
     },
     "execution_count": 87,
     "metadata": {},
     "output_type": "execute_result"
    },
    {
     "data": {
      "image/png": "[encoded data removed]",
      "text/plain": [
       "<Figure size 432x288 with 1 Axes>"
      ]
     },
     "metadata": {
      "needs_background": "light"
     },
     "output_type": "display_data"
    }
   ],
   "source": [
    "import seaborn as sns\n",
    "import numpy as np\n",
    "sns.scatterplot(x='distance_from_shore_m', y='elevation_m' , data=df)"
   ]
  },
  {
   "cell_type": "code",
   "execution_count": 88,
   "metadata": {},
   "outputs": [],
   "source": [
    "# Initialize our classifier\n",
    "gnb = GaussianNB()\n",
    "\n",
    "# Train our classifier\n",
    "model = gnb.fit(X_train, y_train)"
   ]
  },
  {
   "cell_type": "code",
   "execution_count": 89,
   "metadata": {},
   "outputs": [
    {
     "name": "stdout",
     "output_type": "stream",
     "text": [
      "[1 0 0 ... 0 1 0]\n",
      "0.7665\n"
     ]
    }
   ],
   "source": [
    "preds = gnb.predict(X_test2)\n",
    "print(preds)\n",
    "\n",
    "# Evaluate accuracy\n",
    "print(accuracy_score(y_test2, preds))"
   ]
  },
  {
   "cell_type": "code",
   "execution_count": 90,
   "metadata": {},
   "outputs": [
    {
     "data": {
      "text/plain": [
       "30000"
      ]
     },
     "execution_count": 90,
     "metadata": {},
     "output_type": "execute_result"
    }
   ],
   "source": [
    "len(preds)"
   ]
  },
  {
   "cell_type": "code",
   "execution_count": 91,
   "metadata": {},
   "outputs": [
    {
     "data": {
      "text/plain": [
       "median_speed_knots  elevation_m  distance_from_shore_m  distance_from_port_m  encounter.median_distance_km  duration\n",
       "1.151               -162         174000                 290999.344            0.051                         350.0       10\n",
       "1.014               -4609        455000                 605138.125            0.027                         490.0       10\n",
       "1.542               -5224        399000                 434023.219            0.026                         200.0       10\n",
       "1.621               -3058        587000                 593793.312            0.028                         210.0        9\n",
       "0.781               -166         43000                  42668.504             0.011                         200.0        9\n",
       "                                                                                                                        ..\n",
       "0.675               -211         59000                  312210.969            0.038                         950.0        1\n",
       "                    -202         124000                 202459.969            0.037                         260.0        1\n",
       "                    -197         278000                 364985.625            0.038                         730.0        1\n",
       "                    -195         133000                 208032.047            0.029                         470.0        1\n",
       "2.000               -124         76000                  142202.672            0.053                         670.0        1\n",
       "Length: 77379, dtype: int64"
      ]
     },
     "execution_count": 91,
     "metadata": {},
     "output_type": "execute_result"
    }
   ],
   "source": [
    "X_train.value_counts()"
   ]
  },
  {
   "cell_type": "code",
   "execution_count": 92,
   "metadata": {},
   "outputs": [
    {
     "data": {
      "text/plain": [
       "0    113630\n",
       "1     36636\n",
       "2     30161\n",
       "Name: is_authorized, dtype: int64"
      ]
     },
     "execution_count": 92,
     "metadata": {},
     "output_type": "execute_result"
    }
   ],
   "source": [
    "y_train.value_counts()"
   ]
  },
  {
   "cell_type": "code",
   "execution_count": 93,
   "metadata": {},
   "outputs": [
    {
     "data": {
      "text/plain": [
       "0    48590\n",
       "1    15616\n",
       "2    13121\n",
       "Name: is_authorized, dtype: int64"
      ]
     },
     "execution_count": 93,
     "metadata": {},
     "output_type": "execute_result"
    }
   ],
   "source": [
    "y_test.value_counts()"
   ]
  },
  {
   "cell_type": "markdown",
   "metadata": {},
   "source": [
    "## Random Forest CLassifier"
   ]
  },
  {
   "cell_type": "code",
   "execution_count": 94,
   "metadata": {},
   "outputs": [
    {
     "data": {
      "text/plain": [
       "0    18863\n",
       "1     6139\n",
       "2     4998\n",
       "dtype: int64"
      ]
     },
     "execution_count": 94,
     "metadata": {},
     "output_type": "execute_result"
    }
   ],
   "source": [
    "pd.Series(y_pred.tolist()).value_counts()"
   ]
  },
  {
   "cell_type": "markdown",
   "metadata": {},
   "source": [
    "## Naive Bayes Classifier"
   ]
  },
  {
   "cell_type": "code",
   "execution_count": 95,
   "metadata": {},
   "outputs": [
    {
     "data": {
      "text/plain": [
       "0    19159\n",
       "1     7357\n",
       "2     3484\n",
       "dtype: int64"
      ]
     },
     "execution_count": 95,
     "metadata": {},
     "output_type": "execute_result"
    }
   ],
   "source": [
    "pd.Series(preds.tolist()).value_counts()"
   ]
  },
  {
   "cell_type": "code",
   "execution_count": 104,
   "metadata": {},
   "outputs": [
    {
     "data": {
      "text/html": [
       "<div>\n",
       "<style scoped>\n",
       "    .dataframe tbody tr th:only-of-type {\n",
       "        vertical-align: middle;\n",
       "    }\n",
       "\n",
       "    .dataframe tbody tr th {\n",
       "        vertical-align: top;\n",
       "    }\n",
       "\n",
       "    .dataframe thead th {\n",
       "        text-align: right;\n",
       "    }\n",
       "</style>\n",
       "<table border=\"1\" class=\"dataframe\">\n",
       "  <thead>\n",
       "    <tr style=\"text-align: right;\">\n",
       "      <th></th>\n",
       "      <th>median_speed_knots</th>\n",
       "      <th>elevation_m</th>\n",
       "      <th>distance_from_shore_m</th>\n",
       "      <th>distance_from_port_m</th>\n",
       "      <th>encounter.median_distance_km</th>\n",
       "      <th>duration</th>\n",
       "      <th>is_authorized</th>\n",
       "    </tr>\n",
       "  </thead>\n",
       "  <tbody>\n",
       "    <tr>\n",
       "      <th>0</th>\n",
       "      <td>0.028</td>\n",
       "      <td>-105</td>\n",
       "      <td>396000</td>\n",
       "      <td>417048.781</td>\n",
       "      <td>0.052</td>\n",
       "      <td>350.0</td>\n",
       "      <td>0</td>\n",
       "    </tr>\n",
       "    <tr>\n",
       "      <th>2</th>\n",
       "      <td>0.019</td>\n",
       "      <td>-101</td>\n",
       "      <td>394000</td>\n",
       "      <td>416120.438</td>\n",
       "      <td>0.037</td>\n",
       "      <td>350.0</td>\n",
       "      <td>0</td>\n",
       "    </tr>\n",
       "    <tr>\n",
       "      <th>3</th>\n",
       "      <td>0.041</td>\n",
       "      <td>-90</td>\n",
       "      <td>394000</td>\n",
       "      <td>415715.250</td>\n",
       "      <td>0.049</td>\n",
       "      <td>340.0</td>\n",
       "      <td>0</td>\n",
       "    </tr>\n",
       "    <tr>\n",
       "      <th>4</th>\n",
       "      <td>0.016</td>\n",
       "      <td>-90</td>\n",
       "      <td>394000</td>\n",
       "      <td>415715.250</td>\n",
       "      <td>0.064</td>\n",
       "      <td>400.0</td>\n",
       "      <td>0</td>\n",
       "    </tr>\n",
       "    <tr>\n",
       "      <th>56</th>\n",
       "      <td>0.232</td>\n",
       "      <td>-316</td>\n",
       "      <td>273000</td>\n",
       "      <td>426831.406</td>\n",
       "      <td>0.041</td>\n",
       "      <td>1300.0</td>\n",
       "      <td>0</td>\n",
       "    </tr>\n",
       "    <tr>\n",
       "      <th>57</th>\n",
       "      <td>0.955</td>\n",
       "      <td>-107</td>\n",
       "      <td>35000</td>\n",
       "      <td>126979.047</td>\n",
       "      <td>0.179</td>\n",
       "      <td>320.0</td>\n",
       "      <td>0</td>\n",
       "    </tr>\n",
       "    <tr>\n",
       "      <th>59</th>\n",
       "      <td>0.687</td>\n",
       "      <td>-118</td>\n",
       "      <td>49000</td>\n",
       "      <td>146652.078</td>\n",
       "      <td>0.046</td>\n",
       "      <td>500.0</td>\n",
       "      <td>0</td>\n",
       "    </tr>\n",
       "    <tr>\n",
       "      <th>62</th>\n",
       "      <td>0.659</td>\n",
       "      <td>-307</td>\n",
       "      <td>308000</td>\n",
       "      <td>432574.906</td>\n",
       "      <td>0.041</td>\n",
       "      <td>1300.0</td>\n",
       "      <td>0</td>\n",
       "    </tr>\n",
       "    <tr>\n",
       "      <th>63</th>\n",
       "      <td>0.499</td>\n",
       "      <td>-659</td>\n",
       "      <td>278000</td>\n",
       "      <td>278525.844</td>\n",
       "      <td>0.030</td>\n",
       "      <td>850.0</td>\n",
       "      <td>0</td>\n",
       "    </tr>\n",
       "    <tr>\n",
       "      <th>64</th>\n",
       "      <td>0.772</td>\n",
       "      <td>-115</td>\n",
       "      <td>39000</td>\n",
       "      <td>215131.359</td>\n",
       "      <td>0.046</td>\n",
       "      <td>20.0</td>\n",
       "      <td>0</td>\n",
       "    </tr>\n",
       "  </tbody>\n",
       "</table>\n",
       "</div>"
      ],
      "text/plain": [
       "    median_speed_knots  elevation_m  distance_from_shore_m  \\\n",
       "0                0.028         -105                 396000   \n",
       "2                0.019         -101                 394000   \n",
       "3                0.041          -90                 394000   \n",
       "4                0.016          -90                 394000   \n",
       "56               0.232         -316                 273000   \n",
       "57               0.955         -107                  35000   \n",
       "59               0.687         -118                  49000   \n",
       "62               0.659         -307                 308000   \n",
       "63               0.499         -659                 278000   \n",
       "64               0.772         -115                  39000   \n",
       "\n",
       "    distance_from_port_m  encounter.median_distance_km  duration  \\\n",
       "0             417048.781                         0.052     350.0   \n",
       "2             416120.438                         0.037     350.0   \n",
       "3             415715.250                         0.049     340.0   \n",
       "4             415715.250                         0.064     400.0   \n",
       "56            426831.406                         0.041    1300.0   \n",
       "57            126979.047                         0.179     320.0   \n",
       "59            146652.078                         0.046     500.0   \n",
       "62            432574.906                         0.041    1300.0   \n",
       "63            278525.844                         0.030     850.0   \n",
       "64            215131.359                         0.046      20.0   \n",
       "\n",
       "    is_authorized  \n",
       "0               0  \n",
       "2               0  \n",
       "3               0  \n",
       "4               0  \n",
       "56              0  \n",
       "57              0  \n",
       "59              0  \n",
       "62              0  \n",
       "63              0  \n",
       "64              0  "
      ]
     },
     "execution_count": 104,
     "metadata": {},
     "output_type": "execute_result"
    }
   ],
   "source": [
    "df[df['is_authorized'] == 0]"
   ]
  },
  {
   "cell_type": "code",
   "execution_count": 105,
   "metadata": {},
   "outputs": [
    {
     "data": {
      "text/html": [
       "<div>\n",
       "<style scoped>\n",
       "    .dataframe tbody tr th:only-of-type {\n",
       "        vertical-align: middle;\n",
       "    }\n",
       "\n",
       "    .dataframe tbody tr th {\n",
       "        vertical-align: top;\n",
       "    }\n",
       "\n",
       "    .dataframe thead th {\n",
       "        text-align: right;\n",
       "    }\n",
       "</style>\n",
       "<table border=\"1\" class=\"dataframe\">\n",
       "  <thead>\n",
       "    <tr style=\"text-align: right;\">\n",
       "      <th></th>\n",
       "      <th>median_speed_knots</th>\n",
       "      <th>elevation_m</th>\n",
       "      <th>distance_from_shore_m</th>\n",
       "      <th>distance_from_port_m</th>\n",
       "      <th>encounter.median_distance_km</th>\n",
       "      <th>duration</th>\n",
       "      <th>is_authorized</th>\n",
       "    </tr>\n",
       "  </thead>\n",
       "  <tbody>\n",
       "    <tr>\n",
       "      <th>7</th>\n",
       "      <td>1.304</td>\n",
       "      <td>-2667</td>\n",
       "      <td>224000</td>\n",
       "      <td>340354.656</td>\n",
       "      <td>0.028</td>\n",
       "      <td>200.0</td>\n",
       "      <td>2</td>\n",
       "    </tr>\n",
       "    <tr>\n",
       "      <th>8</th>\n",
       "      <td>1.451</td>\n",
       "      <td>-3414</td>\n",
       "      <td>227000</td>\n",
       "      <td>294973.125</td>\n",
       "      <td>0.021</td>\n",
       "      <td>220.0</td>\n",
       "      <td>2</td>\n",
       "    </tr>\n",
       "    <tr>\n",
       "      <th>9</th>\n",
       "      <td>0.985</td>\n",
       "      <td>-2405</td>\n",
       "      <td>283000</td>\n",
       "      <td>625707.688</td>\n",
       "      <td>0.020</td>\n",
       "      <td>140.0</td>\n",
       "      <td>2</td>\n",
       "    </tr>\n",
       "    <tr>\n",
       "      <th>11</th>\n",
       "      <td>1.972</td>\n",
       "      <td>-4349</td>\n",
       "      <td>195000</td>\n",
       "      <td>197768.578</td>\n",
       "      <td>0.018</td>\n",
       "      <td>360.0</td>\n",
       "      <td>2</td>\n",
       "    </tr>\n",
       "    <tr>\n",
       "      <th>13</th>\n",
       "      <td>1.256</td>\n",
       "      <td>-2592</td>\n",
       "      <td>285000</td>\n",
       "      <td>632825.375</td>\n",
       "      <td>0.023</td>\n",
       "      <td>340.0</td>\n",
       "      <td>2</td>\n",
       "    </tr>\n",
       "    <tr>\n",
       "      <th>14</th>\n",
       "      <td>0.641</td>\n",
       "      <td>-4472</td>\n",
       "      <td>290000</td>\n",
       "      <td>420552.438</td>\n",
       "      <td>0.310</td>\n",
       "      <td>130.0</td>\n",
       "      <td>2</td>\n",
       "    </tr>\n",
       "    <tr>\n",
       "      <th>16</th>\n",
       "      <td>0.774</td>\n",
       "      <td>-2364</td>\n",
       "      <td>21000</td>\n",
       "      <td>39307.855</td>\n",
       "      <td>0.040</td>\n",
       "      <td>810.0</td>\n",
       "      <td>2</td>\n",
       "    </tr>\n",
       "    <tr>\n",
       "      <th>17</th>\n",
       "      <td>1.040</td>\n",
       "      <td>-1880</td>\n",
       "      <td>15000</td>\n",
       "      <td>32919.953</td>\n",
       "      <td>0.042</td>\n",
       "      <td>660.0</td>\n",
       "      <td>2</td>\n",
       "    </tr>\n",
       "    <tr>\n",
       "      <th>19</th>\n",
       "      <td>0.462</td>\n",
       "      <td>-1758</td>\n",
       "      <td>15000</td>\n",
       "      <td>32715.656</td>\n",
       "      <td>0.036</td>\n",
       "      <td>920.0</td>\n",
       "      <td>2</td>\n",
       "    </tr>\n",
       "    <tr>\n",
       "      <th>21</th>\n",
       "      <td>0.662</td>\n",
       "      <td>-4339</td>\n",
       "      <td>99000</td>\n",
       "      <td>101941.711</td>\n",
       "      <td>0.041</td>\n",
       "      <td>130.0</td>\n",
       "      <td>2</td>\n",
       "    </tr>\n",
       "  </tbody>\n",
       "</table>\n",
       "</div>"
      ],
      "text/plain": [
       "    median_speed_knots  elevation_m  distance_from_shore_m  \\\n",
       "7                1.304        -2667                 224000   \n",
       "8                1.451        -3414                 227000   \n",
       "9                0.985        -2405                 283000   \n",
       "11               1.972        -4349                 195000   \n",
       "13               1.256        -2592                 285000   \n",
       "14               0.641        -4472                 290000   \n",
       "16               0.774        -2364                  21000   \n",
       "17               1.040        -1880                  15000   \n",
       "19               0.462        -1758                  15000   \n",
       "21               0.662        -4339                  99000   \n",
       "\n",
       "    distance_from_port_m  encounter.median_distance_km  duration  \\\n",
       "7             340354.656                         0.028     200.0   \n",
       "8             294973.125                         0.021     220.0   \n",
       "9             625707.688                         0.020     140.0   \n",
       "11            197768.578                         0.018     360.0   \n",
       "13            632825.375                         0.023     340.0   \n",
       "14            420552.438                         0.310     130.0   \n",
       "16             39307.855                         0.040     810.0   \n",
       "17             32919.953                         0.042     660.0   \n",
       "19             32715.656                         0.036     920.0   \n",
       "21            101941.711                         0.041     130.0   \n",
       "\n",
       "    is_authorized  \n",
       "7               2  \n",
       "8               2  \n",
       "9               2  \n",
       "11              2  \n",
       "13              2  \n",
       "14              2  \n",
       "16              2  \n",
       "17              2  \n",
       "19              2  \n",
       "21              2  "
      ]
     },
     "execution_count": 105,
     "metadata": {},
     "output_type": "execute_result"
    }
   ],
   "source": [
    "df[df['is_authorized'] == 2][0:10]"
   ]
  },
  {
   "cell_type": "code",
   "execution_count": 106,
   "metadata": {},
   "outputs": [
    {
     "data": {
      "text/plain": [
       "<AxesSubplot:xlabel='is_authorized', ylabel='elevation_m'>"
      ]
     },
     "execution_count": 106,
     "metadata": {},
     "output_type": "execute_result"
    },
    {
     "data": {
      "image/png": "[encoded data removed]",
      "text/plain": [
       "<Figure size 432x288 with 1 Axes>"
      ]
     },
     "metadata": {
      "needs_background": "light"
     },
     "output_type": "display_data"
    }
   ],
   "source": [
    "sns.violinplot(x='is_authorized', y='elevation_m', data=df)"
   ]
  },
  {
   "cell_type": "code",
   "execution_count": 139,
   "metadata": {},
   "outputs": [
    {
     "data": {
      "text/plain": [
       "<AxesSubplot:xlabel='is_authorized', ylabel='median_speed_knots'>"
      ]
     },
     "execution_count": 139,
     "metadata": {},
     "output_type": "execute_result"
    },
    {
     "data": {
      "image/png": "[encoded data removed]",
      "text/plain": [
       "<Figure size 432x288 with 1 Axes>"
      ]
     },
     "metadata": {
      "needs_background": "light"
     },
     "output_type": "display_data"
    }
   ],
   "source": [
    "sns.violinplot(x='is_authorized', y='median_speed_knots', data=df)"
   ]
  },
  {
   "cell_type": "code",
   "execution_count": 130,
   "metadata": {},
   "outputs": [
    {
     "data": {
      "text/plain": [
       "<AxesSubplot:xlabel='is_authorized', ylabel='distance_from_port_m'>"
      ]
     },
     "execution_count": 130,
     "metadata": {},
     "output_type": "execute_result"
    },
    {
     "data": {
      "image/png": "[encoded data removed]",
      "text/plain": [
       "<Figure size 432x288 with 1 Axes>"
      ]
     },
     "metadata": {
      "needs_background": "light"
     },
     "output_type": "display_data"
    }
   ],
   "source": [
    "sns.violinplot(x='is_authorized', y='distance_from_port_m', data=df)"
   ]
  },
  {
   "cell_type": "code",
   "execution_count": 138,
   "metadata": {},
   "outputs": [
    {
     "data": {
      "text/plain": [
       "<AxesSubplot:xlabel='distance_from_port_m', ylabel='Count'>"
      ]
     },
     "execution_count": 138,
     "metadata": {},
     "output_type": "execute_result"
    },
    {
     "data": {
      "image/png": "[encoded data removed]",
      "text/plain": [
       "<Figure size 432x288 with 1 Axes>"
      ]
     },
     "metadata": {
      "needs_background": "light"
     },
     "output_type": "display_data"
    }
   ],
   "source": [
    "sns.histplot(x='distance_from_port_m', data=df)"
   ]
  },
  {
   "cell_type": "code",
   "execution_count": 141,
   "metadata": {},
   "outputs": [
    {
     "data": {
      "text/plain": [
       "<AxesSubplot:xlabel='elevation_m', ylabel='Count'>"
      ]
     },
     "execution_count": 141,
     "metadata": {},
     "output_type": "execute_result"
    },
    {
     "data": {
      "image/png": "[encoded data removed]",
      "text/plain": [
       "<Figure size 432x288 with 1 Axes>"
      ]
     },
     "metadata": {
      "needs_background": "light"
     },
     "output_type": "display_data"
    }
   ],
   "source": [
    "sns.histplot(x='elevation_m', data=df)"
   ]
  },
  {
   "cell_type": "code",
   "execution_count": 132,
   "metadata": {},
   "outputs": [
    {
     "data": {
      "text/html": [
       "<div>\n",
       "<style scoped>\n",
       "    .dataframe tbody tr th:only-of-type {\n",
       "        vertical-align: middle;\n",
       "    }\n",
       "\n",
       "    .dataframe tbody tr th {\n",
       "        vertical-align: top;\n",
       "    }\n",
       "\n",
       "    .dataframe thead th {\n",
       "        text-align: right;\n",
       "    }\n",
       "</style>\n",
       "<table border=\"1\" class=\"dataframe\">\n",
       "  <thead>\n",
       "    <tr style=\"text-align: right;\">\n",
       "      <th></th>\n",
       "      <th>median_speed_knots</th>\n",
       "      <th>elevation_m</th>\n",
       "      <th>distance_from_shore_m</th>\n",
       "      <th>distance_from_port_m</th>\n",
       "      <th>encounter.median_distance_km</th>\n",
       "      <th>duration</th>\n",
       "      <th>is_authorized</th>\n",
       "    </tr>\n",
       "  </thead>\n",
       "  <tbody>\n",
       "    <tr>\n",
       "      <th>count</th>\n",
       "      <td>257754.000000</td>\n",
       "      <td>257754.000000</td>\n",
       "      <td>2.577540e+05</td>\n",
       "      <td>2.577540e+05</td>\n",
       "      <td>257754.000000</td>\n",
       "      <td>257754.000000</td>\n",
       "      <td>257754.000000</td>\n",
       "    </tr>\n",
       "    <tr>\n",
       "      <th>mean</th>\n",
       "      <td>0.719821</td>\n",
       "      <td>-1746.981475</td>\n",
       "      <td>3.315082e+05</td>\n",
       "      <td>4.508336e+05</td>\n",
       "      <td>0.055893</td>\n",
       "      <td>455.499042</td>\n",
       "      <td>0.538560</td>\n",
       "    </tr>\n",
       "    <tr>\n",
       "      <th>std</th>\n",
       "      <td>0.550642</td>\n",
       "      <td>2099.921840</td>\n",
       "      <td>3.965550e+05</td>\n",
       "      <td>4.849202e+05</td>\n",
       "      <td>0.062299</td>\n",
       "      <td>330.620754</td>\n",
       "      <td>0.764431</td>\n",
       "    </tr>\n",
       "    <tr>\n",
       "      <th>min</th>\n",
       "      <td>0.000000</td>\n",
       "      <td>-9243.000000</td>\n",
       "      <td>0.000000e+00</td>\n",
       "      <td>1.000041e+04</td>\n",
       "      <td>0.000000</td>\n",
       "      <td>0.000000</td>\n",
       "      <td>0.000000</td>\n",
       "    </tr>\n",
       "    <tr>\n",
       "      <th>25%</th>\n",
       "      <td>0.092000</td>\n",
       "      <td>-3947.000000</td>\n",
       "      <td>2.700000e+04</td>\n",
       "      <td>1.038854e+05</td>\n",
       "      <td>0.029000</td>\n",
       "      <td>200.000000</td>\n",
       "      <td>0.000000</td>\n",
       "    </tr>\n",
       "    <tr>\n",
       "      <th>50%</th>\n",
       "      <td>0.729000</td>\n",
       "      <td>-261.000000</td>\n",
       "      <td>1.510000e+05</td>\n",
       "      <td>2.948929e+05</td>\n",
       "      <td>0.041000</td>\n",
       "      <td>340.000000</td>\n",
       "      <td>0.000000</td>\n",
       "    </tr>\n",
       "    <tr>\n",
       "      <th>75%</th>\n",
       "      <td>1.135000</td>\n",
       "      <td>-62.000000</td>\n",
       "      <td>4.870000e+05</td>\n",
       "      <td>5.919498e+05</td>\n",
       "      <td>0.055000</td>\n",
       "      <td>630.000000</td>\n",
       "      <td>1.000000</td>\n",
       "    </tr>\n",
       "    <tr>\n",
       "      <th>max</th>\n",
       "      <td>2.000000</td>\n",
       "      <td>1155.000000</td>\n",
       "      <td>2.106000e+06</td>\n",
       "      <td>2.645444e+06</td>\n",
       "      <td>0.498000</td>\n",
       "      <td>1430.000000</td>\n",
       "      <td>2.000000</td>\n",
       "    </tr>\n",
       "  </tbody>\n",
       "</table>\n",
       "</div>"
      ],
      "text/plain": [
       "       median_speed_knots    elevation_m  distance_from_shore_m  \\\n",
       "count       257754.000000  257754.000000           2.577540e+05   \n",
       "mean             0.719821   -1746.981475           3.315082e+05   \n",
       "std              0.550642    2099.921840           3.965550e+05   \n",
       "min              0.000000   -9243.000000           0.000000e+00   \n",
       "25%              0.092000   -3947.000000           2.700000e+04   \n",
       "50%              0.729000    -261.000000           1.510000e+05   \n",
       "75%              1.135000     -62.000000           4.870000e+05   \n",
       "max              2.000000    1155.000000           2.106000e+06   \n",
       "\n",
       "       distance_from_port_m  encounter.median_distance_km       duration  \\\n",
       "count          2.577540e+05                 257754.000000  257754.000000   \n",
       "mean           4.508336e+05                      0.055893     455.499042   \n",
       "std            4.849202e+05                      0.062299     330.620754   \n",
       "min            1.000041e+04                      0.000000       0.000000   \n",
       "25%            1.038854e+05                      0.029000     200.000000   \n",
       "50%            2.948929e+05                      0.041000     340.000000   \n",
       "75%            5.919498e+05                      0.055000     630.000000   \n",
       "max            2.645444e+06                      0.498000    1430.000000   \n",
       "\n",
       "       is_authorized  \n",
       "count  257754.000000  \n",
       "mean        0.538560  \n",
       "std         0.764431  \n",
       "min         0.000000  \n",
       "25%         0.000000  \n",
       "50%         0.000000  \n",
       "75%         1.000000  \n",
       "max         2.000000  "
      ]
     },
     "execution_count": 132,
     "metadata": {},
     "output_type": "execute_result"
    }
   ],
   "source": [
    "df.describe()"
   ]
  },
  {
   "cell_type": "code",
   "execution_count": null,
   "metadata": {},
   "outputs": [],
   "source": []
  }
 ],
 "metadata": {
  "interpreter": {
   "hash": "f3ce46aa3beff9ff2d874ea85a2eab2e4e8ea3193bce35de5d5bd0e1f3f8adad"
  },
  "kernelspec": {
   "display_name": "Python 3.8.10 64-bit ('abm': venv)",
   "language": "python",
   "name": "python3"
  },
  "language_info": {
   "codemirror_mode": {
    "name": "ipython",
    "version": 3
   },
   "file_extension": ".py",
   "mimetype": "text/x-python",
   "name": "python",
   "nbconvert_exporter": "python",
   "pygments_lexer": "ipython3",
   "version": "3.8.10"
  },
  "orig_nbformat": 4
 },
 "nbformat": 4,
 "nbformat_minor": 2
}
